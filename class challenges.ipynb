{
 "cells": [
  {
   "attachments": {},
   "cell_type": "markdown",
   "metadata": {},
   "source": [
    "#Given an array of distinct elements. The task is to find triplets in the array whose sum is zero.\n",
    "\n",
    "# Examples : \n",
    "\n",
    "# Input: arr[] = {0, -1, 2, -3, 1}\n",
    "# Output: (0 -1 1), (2 -3 1)\n",
    "# Explanation: The triplets with zero sum are 0 + -1 + 1 = 0 and 2 + -3 + 1 = 0  \n",
    "\n",
    "# Input: arr[] = {1, -2, 1, 0, 5}\n",
    "# Output: 1 -2  1\n",
    "# Explanation: The triplets with zero sum is 1 + -2 + 1 = 0"
   ]
  },
  {
   "cell_type": "code",
   "execution_count": 1,
   "metadata": {},
   "outputs": [
    {
     "name": "stdout",
     "output_type": "stream",
     "text": [
      "0 -1 1\n",
      "2 -3 1\n"
     ]
    }
   ],
   "source": [
    "def findTriplets(arr, n):\n",
    " \n",
    "    found = False\n",
    "    for i in range(0, n-2): \n",
    "        for j in range(i+1, n-1): \n",
    "            for k in range(j+1, n): \n",
    "                if (arr[i] + arr[j] + arr[k] == 0):\n",
    "                    print(arr[i], arr[j], arr[k])\n",
    "                    found = True\n",
    " \n",
    "    # If no triplet with 0 sum\n",
    "    # found in array\n",
    "    if (found == False):\n",
    "        print(\" not exist \")\n",
    "\n",
    "# Driver code\n",
    "arr = [0, -1, 2, -3, 1]\n",
    "n = len(arr)\n",
    "findTriplets(arr, n)\n"
   ]
  },
  {
   "attachments": {},
   "cell_type": "markdown",
   "metadata": {},
   "source": [
    "Imagine the numbers in a list as a bar graph. For example:\n",
    "a = [0, 0, 1, 3, 2, 0, 0, 2, 0] \n",
    "\n",
    "Write a function that prints the peaks. \n",
    "Here, it’s 3 and 2.\n",
    "\n",
    "Expected arguments: a list"
   ]
  },
  {
   "cell_type": "code",
   "execution_count": 1,
   "metadata": {},
   "outputs": [
    {
     "name": "stdout",
     "output_type": "stream",
     "text": [
      "3\n",
      "2\n"
     ]
    },
    {
     "data": {
      "text/plain": [
       "[3, 2]"
      ]
     },
     "execution_count": 1,
     "metadata": {},
     "output_type": "execute_result"
    }
   ],
   "source": [
    "a = [0, 0, 1, 3, 2, 0, 0, 2, 0] \n",
    "\n",
    "def peaks(a):\n",
    "    hump = []\n",
    "    for num in a:\n",
    "        if num > 0:\n",
    "            hump.append(num)\n",
    "        elif hump:\n",
    "            print(max(hump))\n",
    "            hump = []\n",
    "    \n",
    "peaks(a)\n",
    "\n",
    "def drew_peaks(a: list):\n",
    "    peak_result = []\n",
    "    for i in range(len(a)):\n",
    "        if a[i - 1] < a[i] > a[i + 1]:\n",
    "            peak_result.append(a[i])\n",
    "    return peak_result\n",
    "\n",
    "drew_peaks(a)"
   ]
  },
  {
   "cell_type": "code",
   "execution_count": 23,
   "metadata": {},
   "outputs": [
    {
     "data": {
      "text/plain": [
       "[-2, 3]"
      ]
     },
     "execution_count": 23,
     "metadata": {},
     "output_type": "execute_result"
    }
   ],
   "source": [
    "# magine the numbers in a list as a heights in a landscape. Sea level is 0.\n",
    "\n",
    "# Write a function that prints the apex (max) of each mountain, and the thalweg (min) of each valley. \n",
    "# If it doesn’t have a zero on either side, it’s not a mountain or a valley.\n",
    "\n",
    "# For example:\n",
    "#  [0, -1, -2, 0, 0, 1, 3, 2, 0, 0, 2, 0] > -2, 3, 2 \n",
    "#  [1, -1, -2, 0, 0, 1, 3, 2, 0, 0, 2, 4] > 3\n",
    "#  [-2, -1, -2, 0, 0, 1, 3, 2, 0, 0, 2, 1] > 3\n",
    "\n",
    "\n",
    "\n",
    "# # Expected arguments: a list\n",
    "# a = [0, -1, -2, 0, 0, 1, 3, 2, 0, 0, 2, 0]\n",
    "# b = [1, -1, -2, 0, 0, 1, 3, 2, 0, 0, 2, 4]\n",
    "# c = [-2, -1, -2, 0, 0, 1, 3, 2, 0, 0, 2, 1]\n",
    "\n",
    "# def peaks_and_valleys(a):\n",
    "#     peak_result = []\n",
    "#     for i in range(1, len(a)-1):\n",
    "#         if a[i-1] < a[i] > a[i+1] or a[i-1] > a[i] < a[i+1]:\n",
    "#             peak_result.append(a[i])\n",
    "#     return peak_result\n",
    "    \n",
    "# peaks_and_valleys()"
   ]
  },
  {
   "cell_type": "code",
   "execution_count": 7,
   "metadata": {},
   "outputs": [
    {
     "data": {
      "text/plain": [
       "17"
      ]
     },
     "execution_count": 7,
     "metadata": {},
     "output_type": "execute_result"
    }
   ],
   "source": [
    "# Catching rain!\n",
    "\n",
    "# Imagine the numbers in a list to represent the height of walls on a platform. If it was raining, how much rain would this platform collect? \n",
    "\n",
    "# Two Examples:\n",
    "\n",
    "\n",
    "# Write a function that accepts the list and returns the amount of \n",
    "#water collected.\n",
    "\n",
    "a = [5, 0, 1, 1, 0, 2, 0, 0, 0]\n",
    "b = [5, 0, 1, 1, 0, 2, 0, 0, 3]\n",
    "\n",
    "def rain_collected(a):\n",
    "    valley = 0\n",
    "    for i in range(1, len(a)-1):\n",
    "        left = a[i]\n",
    "        for j in range(i):\n",
    "            left = max(left, a[j])\n",
    "        right = a[i]\n",
    "        for j in range(i + 1, len(a)):\n",
    "            right = max(right, a[j])\n",
    "        valley = valley + (min(left, right) - a[i])\n",
    "    return valley\n",
    "\n",
    "rain_collected(b)\n"
   ]
  },
  {
   "cell_type": "code",
   "execution_count": 16,
   "metadata": {},
   "outputs": [
    {
     "data": {
      "text/plain": [
       "3"
      ]
     },
     "execution_count": 16,
     "metadata": {},
     "output_type": "execute_result"
    }
   ],
   "source": [
    "a = [5, 0, 1, 1, 0, 2, 0, 0, 0]\n",
    "b = [5, 0, 1, 1, 0, 2, 0, 0, 3]\n",
    "\n",
    "def rain_collected(a):\n",
    "    left_wall = max(a)\n",
    "    right_wall = a[-1]\n",
    "    return right_wall\n",
    "rain_collected(b)"
   ]
  }
 ],
 "metadata": {
  "kernelspec": {
   "display_name": "venvchal",
   "language": "python",
   "name": "python3"
  },
  "language_info": {
   "codemirror_mode": {
    "name": "ipython",
    "version": 3
   },
   "file_extension": ".py",
   "mimetype": "text/x-python",
   "name": "python",
   "nbconvert_exporter": "python",
   "pygments_lexer": "ipython3",
   "version": "3.10.6 (main, Nov 14 2022, 16:10:14) [GCC 11.3.0]"
  },
  "orig_nbformat": 4,
  "vscode": {
   "interpreter": {
    "hash": "4e5b481950041ce85b52d7993c3717e8d7c23f9aca3c4d82aa2091c0744e3f7a"
   }
  }
 },
 "nbformat": 4,
 "nbformat_minor": 2
}
