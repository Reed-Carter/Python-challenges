{
 "cells": [
  {
   "attachments": {},
   "cell_type": "markdown",
   "metadata": {},
   "source": [
    "#Given an array of distinct elements. The task is to find triplets in the array whose sum is zero.\n",
    "\n",
    "# Examples : \n",
    "\n",
    "# Input: arr[] = {0, -1, 2, -3, 1}\n",
    "# Output: (0 -1 1), (2 -3 1)\n",
    "# Explanation: The triplets with zero sum are 0 + -1 + 1 = 0 and 2 + -3 + 1 = 0  \n",
    "\n",
    "# Input: arr[] = {1, -2, 1, 0, 5}\n",
    "# Output: 1 -2  1\n",
    "# Explanation: The triplets with zero sum is 1 + -2 + 1 = 0"
   ]
  },
  {
   "cell_type": "code",
   "execution_count": 20,
   "metadata": {},
   "outputs": [
    {
     "name": "stdout",
     "output_type": "stream",
     "text": [
      "0 -1 1\n",
      "2 -3 1\n"
     ]
    }
   ],
   "source": [
    "def findTriplets(arr, n):\n",
    " \n",
    "    found = False\n",
    "    for i in range(0, n-2): \n",
    "        for j in range(i+1, n-1): \n",
    "            for k in range(j+1, n): \n",
    "                if (arr[i] + arr[j] + arr[k] == 0):\n",
    "                    print(arr[i], arr[j], arr[k])\n",
    "                    found = True\n",
    " \n",
    "    # If no triplet with 0 sum\n",
    "    # found in array\n",
    "    if (found == False):\n",
    "        print(\" not exist \")\n",
    "\n",
    "# Driver code\n",
    "arr = [0, -1, 2, -3, 1]\n",
    "n = len(arr)\n",
    "findTriplets(arr, n)\n"
   ]
  },
  {
   "attachments": {},
   "cell_type": "markdown",
   "metadata": {},
   "source": [
    "Imagine the numbers in a list as a bar graph. For example:\n",
    "a = [0, 0, 1, 3, 2, 0, 0, 2, 0] \n",
    "\n",
    "Write a function that prints the peaks. \n",
    "Here, it’s 3 and 2.\n",
    "\n",
    "Expected arguments: a list"
   ]
  },
  {
   "cell_type": "code",
   "execution_count": 59,
   "metadata": {},
   "outputs": [
    {
     "name": "stdout",
     "output_type": "stream",
     "text": [
      "3\n",
      "2\n"
     ]
    },
    {
     "data": {
      "text/plain": [
       "[3, 2]"
      ]
     },
     "execution_count": 59,
     "metadata": {},
     "output_type": "execute_result"
    }
   ],
   "source": [
    "a = [0, 0, 1, 3, 2, 0, 0, 2, 0] \n",
    "\n",
    "def peaks(a):\n",
    "    hump = []\n",
    "    for num in a:\n",
    "        if num > 0:\n",
    "            hump.append(num)\n",
    "        elif hump:\n",
    "            print(max(hump))\n",
    "            hump = []\n",
    "    \n",
    "peaks(a)\n",
    "\n",
    "def drew_peaks(a: list):\n",
    "    peak_result = []\n",
    "    for i in range(len(a)):\n",
    "        if a[i - 1] < a[i] > a[i + 1]:\n",
    "            peak_result.append(a[i])\n",
    "    return peak_result\n",
    "\n",
    "drew_peaks(a)"
   ]
  }
 ],
 "metadata": {
  "kernelspec": {
   "display_name": "venvchallenge",
   "language": "python",
   "name": "python3"
  },
  "language_info": {
   "codemirror_mode": {
    "name": "ipython",
    "version": 3
   },
   "file_extension": ".py",
   "mimetype": "text/x-python",
   "name": "python",
   "nbconvert_exporter": "python",
   "pygments_lexer": "ipython3",
   "version": "3.10.6"
  },
  "orig_nbformat": 4,
  "vscode": {
   "interpreter": {
    "hash": "5b4aee88752f97d5786940d1c1fdbda294f7a9a705fb0fa5db40da43281a1744"
   }
  }
 },
 "nbformat": 4,
 "nbformat_minor": 2
}
