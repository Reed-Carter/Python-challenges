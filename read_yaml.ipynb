{
 "cells": [
  {
   "cell_type": "code",
   "execution_count": 2,
   "metadata": {},
   "outputs": [
    {
     "name": "stdout",
     "output_type": "stream",
     "text": [
      "deb-01 sf_bikeshare\n",
      "-\n",
      "f\n",
      "i\n",
      "l\n",
      "e\n",
      "1\n",
      ".\n",
      "c\n",
      "s\n",
      "v\n",
      " \n",
      "-\n",
      "f\n",
      "i\n",
      "l\n",
      "e\n",
      "2\n",
      ".\n",
      "c\n",
      "s\n",
      "v\n"
     ]
    }
   ],
   "source": [
    "import yaml\n",
    "\n",
    "with open(\"./config.yml\", \"r\") as f:\n",
    "    config_file = yaml.safe_load(f)\n",
    "\n",
    "project_name = config_file['gcp-project']\n",
    "dataset_name = config_file['bigquery']['dataset-name']\n",
    "print(project_name, dataset_name)\n",
    "\n",
    "for file in config_file['source-files']:\n",
    "    print(file)"
   ]
  }
 ],
 "metadata": {
  "kernelspec": {
   "display_name": "venvchallenge",
   "language": "python",
   "name": "python3"
  },
  "language_info": {
   "codemirror_mode": {
    "name": "ipython",
    "version": 3
   },
   "file_extension": ".py",
   "mimetype": "text/x-python",
   "name": "python",
   "nbconvert_exporter": "python",
   "pygments_lexer": "ipython3",
   "version": "3.10.6"
  },
  "orig_nbformat": 4,
  "vscode": {
   "interpreter": {
    "hash": "5b4aee88752f97d5786940d1c1fdbda294f7a9a705fb0fa5db40da43281a1744"
   }
  }
 },
 "nbformat": 4,
 "nbformat_minor": 2
}
