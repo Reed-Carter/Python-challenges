{
 "cells": [
  {
   "cell_type": "code",
   "execution_count": 1,
   "metadata": {},
   "outputs": [
    {
     "name": "stdout",
     "output_type": "stream",
     "text": [
      "deb-01 chicago_crime\n"
     ]
    },
    {
     "ename": "AttributeError",
     "evalue": "'list' object has no attribute 'split'",
     "output_type": "error",
     "traceback": [
      "\u001b[0;31m---------------------------------------------------------------------------\u001b[0m",
      "\u001b[0;31mAttributeError\u001b[0m                            Traceback (most recent call last)",
      "Cell \u001b[0;32mIn[1], line 13\u001b[0m\n\u001b[1;32m      9\u001b[0m dataset_name \u001b[39m=\u001b[39m config_file[\u001b[39m'\u001b[39m\u001b[39mbigquery\u001b[39m\u001b[39m'\u001b[39m][\u001b[39m'\u001b[39m\u001b[39mdataset-name\u001b[39m\u001b[39m'\u001b[39m]\n\u001b[1;32m     10\u001b[0m \u001b[39mprint\u001b[39m(project_name, dataset_name)\n\u001b[0;32m---> 13\u001b[0m \u001b[39mfor\u001b[39;00m file \u001b[39min\u001b[39;00m config_file[\u001b[39m'\u001b[39;49m\u001b[39msource-files\u001b[39;49m\u001b[39m'\u001b[39;49m]\u001b[39m.\u001b[39;49msplit():\n\u001b[1;32m     14\u001b[0m     \u001b[39mprint\u001b[39m(file)\n",
      "\u001b[0;31mAttributeError\u001b[0m: 'list' object has no attribute 'split'"
     ]
    }
   ],
   "source": [
    "import yaml\n",
    "import os\n",
    "\n",
    "\n",
    "with open(\"./config.yml\", \"r\") as f:\n",
    "    config_file = yaml.safe_load(f)\n",
    "\n",
    "project_name = config_file['gcp-project']\n",
    "dataset_name = config_file['bigquery']['dataset-name']\n",
    "print(project_name, dataset_name)\n",
    "\n",
    "\n",
    "for file in config_file['source-files'].split():\n",
    "    print(file)"
   ]
  },
  {
   "cell_type": "code",
   "execution_count": null,
   "metadata": {},
   "outputs": [],
   "source": [
    "# You have 10 minutes. \n",
    "\n",
    "# Google “python writing yaml config file” with pyyaml\n",
    "\n",
    "# Create a config.yml file:\n",
    "\n",
    "# gcp-project:  deb-01\n",
    "# bigquery:\n",
    "#   dataset-name: sf_bikeshare\n",
    "# source-files:\n",
    "#   - file1.csv\n",
    "#   - file2.csv\n",
    "\n",
    "# Read the config file above via pyyaml\n",
    "# Change \"bigquery.dataset-name\" to \"chicago_crime\"\n",
    "# Set \"source_files\" to a listing of files in your local dir\n",
    "# Write configs back into the config.yml file"
   ]
  },
  {
   "cell_type": "code",
   "execution_count": 2,
   "metadata": {},
   "outputs": [
    {
     "name": "stdout",
     "output_type": "stream",
     "text": [
      "{'bigquery': {'dataset-name': 'chicago_crime'}, 'gcp-project': 'deb-01', 'source-files': ['Python-challenges', 'data-engineering-bootcamp']}\n",
      "{'bigquery': {'dataset-name': 'chicago_crime'}, 'gcp-project': 'deb-01', 'source-files': ['Python-challenges', 'data-engineering-bootcamp']}\n"
     ]
    }
   ],
   "source": [
    "with open(\"./config.yml\", \"r\") as f:\n",
    "    config_file = yaml.safe_load(f)\n",
    "    print(config_file)\n",
    "\n",
    "config_file.update({'bigquery':{'dataset-name':'chicago_crime'}})\n",
    "path = os.getcwd()\n",
    "dir_name = os.path.dirname(path)\n",
    "config_file['source-files'] = os.listdir(dir_name)\n",
    "print(config_file) \n",
    "\n",
    "with open(\"./config.yml\", 'w') as yamlfile:\n",
    "    config_file = yaml.dump(config_file, yamlfile)"
   ]
  },
  {
   "cell_type": "code",
   "execution_count": 5,
   "metadata": {},
   "outputs": [
    {
     "name": "stdout",
     "output_type": "stream",
     "text": [
      "[DEBUG][2023-01-26 13:29:09,701][3996778239:0029] : logging to the file\n"
     ]
    }
   ],
   "source": [
    "import logging\n",
    "import logging.handlers\n",
    "\n",
    "# logging.basicConfig(\n",
    "#     format='[%(levelname)-5s][%(asctime)s][%(module)s:%(lineno)04d] : %(message)s',\n",
    "#     level=logging.INFO,\n",
    "#     stream=sys.stdout\n",
    "# )\n",
    "# logger: logging.Logger = logging.getLogger('root')      # alias the root logger\n",
    "\n",
    "# Google how to write logs into a file instead of the console.  Log a few msgs.\n",
    "\n",
    "# Hint: \n",
    "# Either modify the logging.basicConfig() method \n",
    "# OR \n",
    "# better to add another logging.FileHandler()\n",
    "\n",
    "\n",
    "logger = logging.getLogger(\"\")\n",
    "logger.setLevel(logging.DEBUG)\n",
    "handler = logging.handlers.RotatingFileHandler(\n",
    "    './log_files/log_file.txt', maxBytes=(1048576*5), backupCount=7\n",
    ")\n",
    "formatter = logging.Formatter(\"%(asctime)s - %(name)s - %(levelname)s - %(message)s\")\n",
    "handler.setFormatter(formatter)\n",
    "logger.addHandler(handler)\n",
    "\n",
    "#to call the function\n",
    "logger.debug('logging to the file')"
   ]
  },
  {
   "cell_type": "code",
   "execution_count": 6,
   "metadata": {},
   "outputs": [
    {
     "name": "stdout",
     "output_type": "stream",
     "text": [
      "[INFO ][2023-01-26 13:29:19,083][2087695480:0013] : say hello\n"
     ]
    }
   ],
   "source": [
    "import logging\n",
    "\n",
    "logging.basicConfig(\n",
    "    format='[%(levelname)-5s][%(asctime)s][%(module)s:%(lineno)04d] : %(message)s',\n",
    "    level=logging.INFO,\n",
    "    stream=sys.stdout\n",
    ")\n",
    "logger: logging.Logger = logging.getLogger('root') \n",
    "\n",
    "log_hand_guess=logging.FileHandler(filename=\"logs.txt\")\n",
    "logger.addHandler(log_hand_guess)\n",
    "\n",
    "logger.info(\"say hello\")"
   ]
  }
 ],
 "metadata": {
  "kernelspec": {
   "display_name": "venvchal",
   "language": "python",
   "name": "python3"
  },
  "language_info": {
   "codemirror_mode": {
    "name": "ipython",
    "version": 3
   },
   "file_extension": ".py",
   "mimetype": "text/x-python",
   "name": "python",
   "nbconvert_exporter": "python",
   "pygments_lexer": "ipython3",
   "version": "3.10.6"
  },
  "orig_nbformat": 4,
  "vscode": {
   "interpreter": {
    "hash": "4e5b481950041ce85b52d7993c3717e8d7c23f9aca3c4d82aa2091c0744e3f7a"
   }
  }
 },
 "nbformat": 4,
 "nbformat_minor": 2
}
