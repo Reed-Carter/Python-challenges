{
 "cells": [
  {
   "cell_type": "code",
   "execution_count": 30,
   "metadata": {},
   "outputs": [
    {
     "ename": "TypeError",
     "evalue": "'NoneType' object is not subscriptable",
     "output_type": "error",
     "traceback": [
      "\u001b[0;31m---------------------------------------------------------------------------\u001b[0m",
      "\u001b[0;31mTypeError\u001b[0m                                 Traceback (most recent call last)",
      "\u001b[0;32m/tmp/ipykernel_41930/1001759676.py\u001b[0m in \u001b[0;36m<module>\u001b[0;34m\u001b[0m\n\u001b[1;32m      4\u001b[0m     \u001b[0mconfig_file\u001b[0m \u001b[0;34m=\u001b[0m \u001b[0myaml\u001b[0m\u001b[0;34m.\u001b[0m\u001b[0msafe_load\u001b[0m\u001b[0;34m(\u001b[0m\u001b[0mf\u001b[0m\u001b[0;34m)\u001b[0m\u001b[0;34m\u001b[0m\u001b[0;34m\u001b[0m\u001b[0m\n\u001b[1;32m      5\u001b[0m \u001b[0;34m\u001b[0m\u001b[0m\n\u001b[0;32m----> 6\u001b[0;31m \u001b[0mproject_name\u001b[0m \u001b[0;34m=\u001b[0m \u001b[0mconfig_file\u001b[0m\u001b[0;34m[\u001b[0m\u001b[0;34m'gcp-project'\u001b[0m\u001b[0;34m]\u001b[0m\u001b[0;34m\u001b[0m\u001b[0;34m\u001b[0m\u001b[0m\n\u001b[0m\u001b[1;32m      7\u001b[0m \u001b[0mdataset_name\u001b[0m \u001b[0;34m=\u001b[0m \u001b[0mconfig_file\u001b[0m\u001b[0;34m[\u001b[0m\u001b[0;34m'bigquery'\u001b[0m\u001b[0;34m]\u001b[0m\u001b[0;34m[\u001b[0m\u001b[0;34m'dataset-name'\u001b[0m\u001b[0;34m]\u001b[0m\u001b[0;34m\u001b[0m\u001b[0;34m\u001b[0m\u001b[0m\n\u001b[1;32m      8\u001b[0m \u001b[0mprint\u001b[0m\u001b[0;34m(\u001b[0m\u001b[0mproject_name\u001b[0m\u001b[0;34m,\u001b[0m \u001b[0mdataset_name\u001b[0m\u001b[0;34m)\u001b[0m\u001b[0;34m\u001b[0m\u001b[0;34m\u001b[0m\u001b[0m\n",
      "\u001b[0;31mTypeError\u001b[0m: 'NoneType' object is not subscriptable"
     ]
    }
   ],
   "source": [
    "import yaml\n",
    "\n",
    "with open(\"./config.yml\", \"r\") as f:\n",
    "    config_file = yaml.safe_load(f)\n",
    "\n",
    "project_name = config_file['gcp-project']\n",
    "dataset_name = config_file['bigquery']['dataset-name']\n",
    "print(project_name, dataset_name)\n",
    "\n",
    "\n",
    "for file in config_file['source-files'].split():\n",
    "    print(file)"
   ]
  },
  {
   "cell_type": "code",
   "execution_count": null,
   "metadata": {},
   "outputs": [],
   "source": [
    "# You have 10 minutes. \n",
    "\n",
    "# Google “python writing yaml config file” with pyyaml\n",
    "\n",
    "# Create a config.yml file:\n",
    "\n",
    "# gcp-project:  deb-01\n",
    "# bigquery:\n",
    "#   dataset-name: sf_bikeshare\n",
    "# source-files:\n",
    "#   - file1.csv\n",
    "#   - file2.csv\n",
    "\n",
    "# Read the config file above via pyyaml\n",
    "# Change \"bigquery.dataset-name\" to \"chicago_crime\"\n",
    "# Set \"source_files\" to a listing of files in your local dir\n",
    "# Write configs back into the config.yml file"
   ]
  },
  {
   "cell_type": "code",
   "execution_count": 34,
   "metadata": {},
   "outputs": [
    {
     "name": "stdout",
     "output_type": "stream",
     "text": [
      "{'gcp-project': 'deb-01', 'bigquery': {'dataset-name': 'sf_bikeshare'}, 'source-files': ['file1.csv', 'file2.csv']}\n",
      "{'gcp-project': 'deb-01', 'bigquery': {'dataset-name': 'chicago_crime'}, 'source-files': ['file1.csv', 'file2.csv']}\n"
     ]
    }
   ],
   "source": [
    "with open(\"./config.yml\", \"r\") as f:\n",
    "    config_file = yaml.safe_load(f)\n",
    "    print(config_file)\n",
    "\n",
    "config_file.update({'bigquery':{'dataset-name':'chicago_crime'}})\n",
    "print(config_file) \n",
    "\n",
    "with open(\"./config.yml\", 'w') as yamlfile:\n",
    "    config_file = yaml.dump(config_file, yamlfile)"
   ]
  }
 ],
 "metadata": {
  "kernelspec": {
   "display_name": "venvchallenge",
   "language": "python",
   "name": "python3"
  },
  "language_info": {
   "codemirror_mode": {
    "name": "ipython",
    "version": 3
   },
   "file_extension": ".py",
   "mimetype": "text/x-python",
   "name": "python",
   "nbconvert_exporter": "python",
   "pygments_lexer": "ipython3",
   "version": "3.7.16"
  },
  "orig_nbformat": 4,
  "vscode": {
   "interpreter": {
    "hash": "7cdac49210ac49ba95bdd989ddad3adc46ccd77d2f7cbe0a3f84388449da51cb"
   }
  }
 },
 "nbformat": 4,
 "nbformat_minor": 2
}
