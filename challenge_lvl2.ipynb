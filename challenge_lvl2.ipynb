{
 "cells": [
  {
   "cell_type": "code",
   "execution_count": null,
   "metadata": {},
   "outputs": [],
   "source": [
    "# https://pythonprinciples.com/challenges/"
   ]
  },
  {
   "cell_type": "code",
   "execution_count": null,
   "metadata": {},
   "outputs": [],
   "source": [
    "# Online status\n",
    "# The aim of this challenge is, given a dictionary of people's online status, to count the number of people who are online.\n",
    "\n",
    "# For example, consider the following dictionary:\n",
    "\n",
    "statuses = {\n",
    "    \"Alice\": \"online\",\n",
    "    \"Bob\": \"offline\",\n",
    "    \"Eve\": \"online\",\n",
    "}\n",
    "# In this case, the number of people online is 2.\n",
    "\n",
    "# Write a function named online_count that takes one parameter. The parameter is a dictionary that maps from strings of names to the string \"online\" or \"offline\", as seen above.\n",
    "\n",
    "# Your function should return the number of people who are online.\n",
    "\n",
    "def online_count(statuses):\n",
    "    count=0\n",
    "    for k,v in statuses.items():\n",
    "        if v =='online':\n",
    "            count+=1\n",
    "    return count\n",
    "\n",
    "online_count(statuses)"
   ]
  },
  {
   "cell_type": "code",
   "execution_count": null,
   "metadata": {},
   "outputs": [],
   "source": [
    "# Middle letter\n",
    "# Write a function named mid that takes a string as its parameter. Your function should extract and return the middle letter. If there is no middle letter, your function should return the empty string.\n",
    "\n",
    "# For example, mid(\"abc\") should return \"b\" and mid(\"aaaa\") should return \"\".\n",
    "\n",
    "a='abc'\n",
    "b='aaaa'\n",
    "\n",
    "def mid(c):\n",
    "    if len(c) % 2 == 1:\n",
    "        middle=c[int(len(c)/2)]\n",
    "        return middle\n",
    "    else:\n",
    "        return (\"\")\n",
    "mid(a)"
   ]
  },
  {
   "cell_type": "code",
   "execution_count": null,
   "metadata": {},
   "outputs": [],
   "source": [
    "# Capital indexes\n",
    "# Write a function named capital_indexes. The function takes a single parameter, which is a string. Your function should return a list of all the indexes in the string that have capital letters.\n",
    "\n",
    "# For example, calling capital_indexes(\"HeLlO\") should return the list [0, 2, 4].\n",
    "\n",
    "a=\"HeLlO\"\n",
    "def capital_indexes(astring):\n",
    "    capitals=[]\n",
    "    for i in range(0, len(astring)):\n",
    "        if astring[i].isupper():\n",
    "            capitals.append(i)\n",
    "    return capitals\n",
    "\n",
    "capital_indexes(a)"
   ]
  },
  {
   "cell_type": "code",
   "execution_count": 6,
   "metadata": {},
   "outputs": [
    {
     "data": {
      "text/plain": [
       "84"
      ]
     },
     "execution_count": 6,
     "metadata": {},
     "output_type": "execute_result"
    }
   ],
   "source": [
    "# Randomness\n",
    "# Define a function, random_number, that takes no parameters. The function must generate a random integer between 1 and 100, both inclusive, and return it.\n",
    "\n",
    "# Calling the function multiple times should (usually) return different numbers.\n",
    "\n",
    "# For example, calling random_number() some times might first return 42, then 63, then 1.\n",
    "\n",
    "from random import randint\n",
    "\n",
    "\n",
    "def random_number():\n",
    "    return randint(0,100)\n",
    "\n",
    "random_number()"
   ]
  },
  {
   "cell_type": "code",
   "execution_count": 14,
   "metadata": {},
   "outputs": [
    {
     "name": "stdout",
     "output_type": "stream",
     "text": [
      "True\n",
      "False\n",
      "True\n",
      "False\n"
     ]
    }
   ],
   "source": [
    "# Type check\n",
    "# Write a function named only_ints that takes two parameters. Your function should return True if both parameters are integers, and False otherwise.\n",
    "\n",
    "# For example, calling only_ints(1, 2) should return True, while calling only_ints(\"a\", 1) should return False.\n",
    "\n",
    "def only_ints(a, b):\n",
    "    if type(a)==int and type(b) == int:\n",
    "        return True\n",
    "    else:\n",
    "        return False\n",
    "\n",
    "def only_ints_short(a, b):\n",
    "    return type(a) == int and type(b) == int\n",
    "\n",
    "print(only_ints(1, 2))\n",
    "print(only_ints('a', 1))\n",
    "\n",
    "print(only_ints_short(1, 2))\n",
    "print(only_ints_short('a', 1))\n"
   ]
  },
  {
   "cell_type": "code",
   "execution_count": 48,
   "metadata": {},
   "outputs": [
    {
     "name": "stdout",
     "output_type": "stream",
     "text": [
      "True\n",
      "False\n"
     ]
    }
   ],
   "source": [
    "# Double letters\n",
    "# The goal of this challenge is to analyze a string to check if it contains two of the same letter in a row. For example, the string \"hello\" has l twice in a row, while the string \"nono\" does not have two identical letters in a row.\n",
    "\n",
    "# Define a function named double_letters that takes a single parameter. The parameter is a string. Your function must return True if there are two identical letters in a row in the string, and False otherwise.\n",
    "\n",
    "def double_letters(astring):\n",
    "    for i in range (0,len(astring)-1):\n",
    "        if  astring[i+1]== astring[i]:\n",
    "            return True\n",
    "    return False\n",
    "    \n",
    "a = 'hello'\n",
    "b = 'nono'\n",
    "\n",
    "print(double_letters(a))\n",
    "print(double_letters(b))\n"
   ]
  },
  {
   "cell_type": "code",
   "execution_count": 39,
   "metadata": {},
   "outputs": [
    {
     "data": {
      "text/plain": [
       "'test'"
      ]
     },
     "execution_count": 39,
     "metadata": {},
     "output_type": "execute_result"
    }
   ],
   "source": [
    "# Adding and removing dots\n",
    "# Write a function named add_dots that takes a string and adds \".\" in between each letter. For example, calling add_dots(\"test\") should return the string \"t.e.s.t\".\n",
    "\n",
    "# Then, below the add_dots function, write another function named remove_dots that removes all dots from a string. For example, calling remove_dots(\"t.e.s.t\") should return \"test\".\n",
    "\n",
    "# If both functions are correct, calling remove_dots(add_dots(string)) should return back the original string for any string.\n",
    "\n",
    "# (You may assume that the input to add_dots does not itself contain any dots.)\n",
    "\n",
    "a='test'\n",
    "\n",
    "\n",
    "def add_dots(a):\n",
    "    with_dots = \"\"\n",
    "\n",
    "    for i in range(0,len(a)):\n",
    "        if i < len(a)-1:\n",
    "            with_dots += a[i] + \".\"\n",
    "        else:\n",
    "            with_dots += a[i]\n",
    "    return with_dots\n",
    "\n",
    "def remove_dots(a):\n",
    "    no_dots = \"\"\n",
    "    for i in a:\n",
    "        if i != \".\":\n",
    "            no_dots+=i\n",
    "    return no_dots\n",
    "\n",
    "remove_dots(add_dots(a))"
   ]
  },
  {
   "cell_type": "code",
   "execution_count": 40,
   "metadata": {},
   "outputs": [
    {
     "data": {
      "text/plain": [
       "2"
      ]
     },
     "execution_count": 40,
     "metadata": {},
     "output_type": "execute_result"
    }
   ],
   "source": [
    "# Counting syllables\n",
    "# Define a function named count that takes a single parameter. The parameter is a string. The string will contain a single word divided into syllables by hyphens, such as these:\n",
    "\n",
    "# \"ho-tel\"\n",
    "# \"cat\"\n",
    "# \"met-a-phor\"\n",
    "# \"ter-min-a-tor\"\n",
    "# Your function should count the number of syllables and return it.\n",
    "\n",
    "# For example, the call count(\"ho-tel\") should return 2.\n",
    "\n",
    "def count(a):\n",
    "    counter = 1\n",
    "    for i in a:\n",
    "        if i == \"-\":\n",
    "            counter += 1\n",
    "    return counter\n",
    "\n",
    "count(\"ho-tel\")\n",
    "\n"
   ]
  },
  {
   "cell_type": "code",
   "execution_count": 44,
   "metadata": {},
   "outputs": [
    {
     "data": {
      "text/plain": [
       "False"
      ]
     },
     "execution_count": 44,
     "metadata": {},
     "output_type": "execute_result"
    }
   ],
   "source": [
    "#Flatten a list\n",
    "\n",
    "# Two strings are anagrams if you can make one from the other by rearranging the letters.\n",
    "\n",
    "# Write a function named is_anagram that takes two strings as its parameters. Your function should return True if the strings are anagrams, and False otherwise.\n",
    "\n",
    "# For example, the call is_anagram(\"typhoon\", \"opython\") should return True while the call is_anagram(\"Alice\", \"Bob\") should return False.\n",
    "\n",
    "def is_anagram(a, b):\n",
    "    a_sorted = sorted(a)\n",
    "    b_sorted = sorted(b)\n",
    "    \n",
    "    if a_sorted == b_sorted:\n",
    "        return True\n",
    "    else:\n",
    "        return False\n",
    "\n",
    "is_anagram('Alice','opython')"
   ]
  },
  {
   "cell_type": "code",
   "execution_count": 71,
   "metadata": {},
   "outputs": [
    {
     "data": {
      "text/plain": [
       "[1, 2, 3, 4]"
      ]
     },
     "execution_count": 71,
     "metadata": {},
     "output_type": "execute_result"
    }
   ],
   "source": [
    "# Write a function that takes a list of lists and flattens it into a one-dimensional list.\n",
    "\n",
    "# Name your function flatten. It should take a single parameter and return a list.\n",
    "\n",
    "# For example, calling:\n",
    "\n",
    "# flatten([[1, 2], [3, 4]])\n",
    "# Should return the list:\n",
    "\n",
    "# [1, 2, 3, 4]\n",
    "\n",
    "a = [[1, 2], [3, 4]]\n",
    "def flatten(a):\n",
    "    flattened = []\n",
    "    for i in a:\n",
    "        for j in i:\n",
    "            flattened.append(j)\n",
    "    return flattened\n",
    "\n",
    "flatten(a)"
   ]
  },
  {
   "cell_type": "code",
   "execution_count": 79,
   "metadata": {},
   "outputs": [
    {
     "data": {
      "text/plain": [
       "1"
      ]
     },
     "execution_count": 79,
     "metadata": {},
     "output_type": "execute_result"
    }
   ],
   "source": [
    "# Min-maxing\n",
    "# Define a function named largest_difference that takes a list of numbers as its only parameter.\n",
    "\n",
    "# Your function should compute and return the difference between the largest and smallest number in the list.\n",
    "\n",
    "# For example, the call largest_difference([1, 2, 3]) should return 2 because 3 - 1 is 2.\n",
    "\n",
    "# You may assume that no numbers are smaller or larger than -100 and 100.\n",
    "\n",
    "a = [1, 2, 3]\n",
    "b = [3, 2, 3]\n",
    "\n",
    "def largest_difference(a):\n",
    "    return max(a) - min(a)\n",
    "\n",
    "largest_difference(b)"
   ]
  },
  {
   "cell_type": "code",
   "execution_count": 1,
   "metadata": {},
   "outputs": [
    {
     "data": {
      "text/plain": [
       "True"
      ]
     },
     "execution_count": 1,
     "metadata": {},
     "output_type": "execute_result"
    }
   ],
   "source": [
    "# Divisible by 3\n",
    "# Define a function named div_3 that returns True if its single integer parameter is divisible by 3 and False otherwise.\n",
    "\n",
    "# For example, div_3(6) is True because 6/3 does not leave any remainder. However div_3(5) is False because 5/3 leaves 2 as a remainder.\n",
    "\n",
    "def div_3(a):\n",
    "    if a % 3 == 0:\n",
    "        return True\n",
    "    else:\n",
    "        return False\n",
    "\n",
    "div_3(6)\n"
   ]
  },
  {
   "cell_type": "code",
   "execution_count": 92,
   "metadata": {},
   "outputs": [
    {
     "name": "stdout",
     "output_type": "stream",
     "text": [
      "{'A': 0, 'B': 1, 'C': 2}\n"
     ]
    }
   ],
   "source": [
    "# Tic tac toe input\n",
    "# Here's the backstory for this challenge: imagine you're writing a tic-tac-toe game, where the board looks like this:\n",
    "\n",
    "# 1:  X | O | X\n",
    "#    -----------\n",
    "# 2:    |   |  \n",
    "#    -----------\n",
    "# 3:  O |   |\n",
    "\n",
    "#     A   B  C\n",
    "# The board is represented as a 2D list:\n",
    "\n",
    "# board = [\n",
    "#     [\"X\", \"O\", \"X\"],\n",
    "#     [\" \", \" \", \" \"],\n",
    "#     [\"O\", \" \", \" \"],\n",
    "# ]\n",
    "# Imagine if your user enters \"C1\" and you need to see if there's an X or O in that cell on the board. To do so, you need to translate from the string \"C1\" to row 0 and column 2 so that you can check board[row][column].\n",
    "\n",
    "# Your task is to write a function that can translate from strings of length 2 to a tuple (row, column). Name your function get_row_col; it should take a single parameter which is a string of length 2 consisting of an uppercase letter and a digit.\n",
    "\n",
    "# For example, calling get_row_col(\"A3\") should return the tuple (2, 0) because A3 corresponds to the row at index 2 and column at index 0in the board.\n",
    "\n",
    "def get_row_col(a):\n",
    "    a_dict = {}\n",
    "    a_dict['A'] = 0\n",
    "    a_dict['B'] = 1\n",
    "    a_dict['C'] = 2\n",
    "    print(a_dict)\n",
    "    \n",
    "get_row_col('A1')"
   ]
  },
  {
   "cell_type": "code",
   "execution_count": 3,
   "metadata": {},
   "outputs": [
    {
     "data": {
      "text/plain": [
       "(4, 6)"
      ]
     },
     "execution_count": 3,
     "metadata": {},
     "output_type": "execute_result"
    }
   ],
   "source": [
    "# Up and down\n",
    "# Define a function named up_down that takes a single number as its parameter. Your function return a tuple containing two numbers; the first should be one lower than the parameter, and the second should be one higher.\n",
    "\n",
    "# For example, calling up_down(5) should return (4, 6).\n",
    "\n",
    "def up_down(n):\n",
    "    x=n-1\n",
    "    y=n+1\n",
    "    return (x, y)\n",
    "\n",
    "up_down(5)"
   ]
  },
  {
   "cell_type": "code",
   "execution_count": 17,
   "metadata": {},
   "outputs": [
    {
     "data": {
      "text/plain": [
       "1"
      ]
     },
     "execution_count": 17,
     "metadata": {},
     "output_type": "execute_result"
    }
   ],
   "source": [
    "# Consecutive zeros\n",
    "# The goal of this challenge is to analyze a binary string consisting of only zeros and ones. Your code should find the biggest number of consecutive zeros in the string. For example, given the string:\n",
    "\n",
    "# \"1001101000110\"\n",
    "# The biggest number of consecutive zeros is 3.\n",
    "\n",
    "# Define a function named consecutive_zeros that takes a single parameter, which is the string of zeros and ones. Your function should return the number described above.\n",
    "\n",
    "n='101'\n",
    "def consecutive_zeros(n):\n",
    "    count = 0\n",
    "    consecutive = []\n",
    "    for i in n:\n",
    "        if i == '0':\n",
    "            count+= 1\n",
    "        if i == '1':\n",
    "            consecutive.append(count)\n",
    "            count = 0\n",
    "    return max(consecutive)\n",
    "\n",
    "consecutive_zeros(n)\n"
   ]
  },
  {
   "cell_type": "code",
   "execution_count": 92,
   "metadata": {},
   "outputs": [
    {
     "data": {
      "text/plain": [
       "True"
      ]
     },
     "execution_count": 92,
     "metadata": {},
     "output_type": "execute_result"
    }
   ],
   "source": [
    "# All equal\n",
    "# Define a function named all_equal that takes a list and checks whether all elements in the list are the same.\n",
    "\n",
    "# For example, calling all_equal([1, 1, 1]) should return True.\n",
    "\n",
    "a_list=[1,1,1]\n",
    "\n",
    "def all_equal(n):\n",
    "    x = []\n",
    "    if len(n) == 1 or len(n) == 0:\n",
    "        return True\n",
    "    for i in range(0,len(n)-1):\n",
    "        x.append(n[i])\n",
    "        if n[i] != n[i-1] :\n",
    "            return False\n",
    "        if len(x) == len(n)-1:\n",
    "            return True\n",
    "\n",
    "all_equal(a_list)\n"
   ]
  },
  {
   "cell_type": "code",
   "execution_count": 93,
   "metadata": {},
   "outputs": [
    {
     "data": {
      "text/plain": [
       "True"
      ]
     },
     "execution_count": 93,
     "metadata": {},
     "output_type": "execute_result"
    }
   ],
   "source": [
    "# Boolean and\n",
    "# Define a function named triple_and that takes three parameters and returns True only if they are all True and False otherwise.\n",
    "a = True\n",
    "b = True\n",
    "c = True\n",
    "def triple(a, b, c):\n",
    "    if a and b and c == True:\n",
    "        return True\n",
    "    else:\n",
    "        return False\n",
    "\n",
    "triple(a, b, c)"
   ]
  },
  {
   "cell_type": "code",
   "execution_count": 102,
   "metadata": {},
   "outputs": [
    {
     "data": {
      "text/plain": [
       "[(0, 5), (1, 6), (2, 7), (3, 8)]"
      ]
     },
     "execution_count": 102,
     "metadata": {},
     "output_type": "execute_result"
    }
   ],
   "source": [
    "\n",
    "# Custom zip\n",
    "# The built-in zip function \"zips\" two lists. Write your own implementation of this function.\n",
    "\n",
    "# Define a function named zap. The function takes two parameters, a and b. These are lists.\n",
    "\n",
    "# Your function should return a list of tuples. Each tuple should contain one item from the a list and one from b.\n",
    "\n",
    "# You may assume a and b have equal lengths.\n",
    "\n",
    "# If you don't get it, think of a zipper.\n",
    "\n",
    "# For example:\n",
    "\n",
    "# zap(\n",
    "#     [0, 1, 2, 3],\n",
    "#     [5, 6, 7, 8]\n",
    "# )\n",
    "# Should return:\n",
    "\n",
    "# [(0, 5),\n",
    "#  (1, 6),\n",
    "#  (2, 7),\n",
    "#  (3, 8)]\n",
    "\n",
    "a = [0, 1, 2, 3]\n",
    "b = [5, 6, 7, 8]\n",
    "def zap(a,b):\n",
    "    result = []\n",
    "\n",
    "    for i in range(len(a)):\n",
    "        tuples = (a[i],b[i])\n",
    "        result.append(tuples)\n",
    "    return result\n",
    "\n",
    "zap(a,b)"
   ]
  },
  {
   "cell_type": "code",
   "execution_count": 1,
   "metadata": {},
   "outputs": [
    {
     "data": {
      "text/plain": [
       "2"
      ]
     },
     "execution_count": 1,
     "metadata": {},
     "output_type": "execute_result"
    }
   ],
   "source": [
    "# Counting parameters\n",
    "# Define a function param_count that takes a variable number of parameters. The function should return the number of arguments it was called with.\n",
    "\n",
    "# For example, param_count() should return 0, while param_count(2, 3, 4) should return 3.\n",
    "\n",
    "def param_count(*args):\n",
    "    return len(args)\n",
    "\n",
    "param_count(1,2)"
   ]
  },
  {
   "cell_type": "code",
   "execution_count": 57,
   "metadata": {},
   "outputs": [
    {
     "ename": "TypeError",
     "evalue": "string indices must be integers",
     "output_type": "error",
     "traceback": [
      "\u001b[0;31m---------------------------------------------------------------------------\u001b[0m",
      "\u001b[0;31mTypeError\u001b[0m                                 Traceback (most recent call last)",
      "Cell \u001b[0;32mIn[57], line 21\u001b[0m\n\u001b[1;32m     12\u001b[0m         \u001b[39mprint\u001b[39m(n_string[[i]])\n\u001b[1;32m     13\u001b[0m         \u001b[39m# print(n_string[(len(n_string)-1)-i])\u001b[39;00m\n\u001b[0;32m---> 21\u001b[0m format_number(\u001b[39m10000\u001b[39;49m)\n",
      "Cell \u001b[0;32mIn[57], line 12\u001b[0m, in \u001b[0;36mformat_number\u001b[0;34m(n)\u001b[0m\n\u001b[1;32m      9\u001b[0m n_string \u001b[39m=\u001b[39m \u001b[39mstr\u001b[39m(n)\n\u001b[1;32m     11\u001b[0m \u001b[39mfor\u001b[39;00m i \u001b[39min\u001b[39;00m \u001b[39mrange\u001b[39m(\u001b[39m0\u001b[39m,\u001b[39mlen\u001b[39m(n_string)\u001b[39m-\u001b[39m\u001b[39m1\u001b[39m,\u001b[39m3\u001b[39m):\n\u001b[0;32m---> 12\u001b[0m     \u001b[39mprint\u001b[39m(n_string[[i]])\n",
      "\u001b[0;31mTypeError\u001b[0m: string indices must be integers"
     ]
    }
   ],
   "source": [
    "# Thousands separator\n",
    "# Write a function named format_number that takes a non-negative number as its only parameter.\n",
    "\n",
    "# Your function should convert the number to a string and add commas as a thousands separator.\n",
    "\n",
    "# For example, calling format_number(1000000) should return \"1,000,000\".\n",
    "\n",
    "def format_number(n):\n",
    "    n_string = str(n)\n",
    "\n",
    "    for i in range(0,len(n_string)-1,3):\n",
    "        print(n_string[[i]])\n",
    "        # print(n_string[(len(n_string)-1)-i])\n",
    "       \n",
    "\n",
    "       \n",
    "\n",
    "\n",
    "\n",
    "\n",
    "format_number(10000)"
   ]
  },
  {
   "cell_type": "code",
   "execution_count": 1,
   "metadata": {},
   "outputs": [
    {
     "data": {
      "text/plain": [
       "False"
      ]
     },
     "execution_count": 1,
     "metadata": {},
     "output_type": "execute_result"
    }
   ],
   "source": [
    "# Divisible by 3\n",
    "# Define a function named div_3 that returns True if its single integer parameter is divisible by 3 and False otherwise.\n",
    "\n",
    "# For example, div_3(6) is True because 6/3 does not leave any remainder. However div_3(5) is False because 5/3 leaves 2 as a remainder.\n",
    "\n",
    "\n",
    "def div_3(n):\n",
    "    if n % 3 == 0:\n",
    "        return True\n",
    "    else:\n",
    "        return False\n",
    "\n",
    "div_3(5)"
   ]
  },
  {
   "cell_type": "code",
   "execution_count": 24,
   "metadata": {},
   "outputs": [
    {
     "name": "stdout",
     "output_type": "stream",
     "text": [
      "[3, 2, 4]\n",
      "[5, 1, 7]\n"
     ]
    }
   ],
   "source": [
    "# List Chunker Pt. 2: Local Minima\n",
    "\n",
    "# Move through a list in 3-unit sections, returning the first three entries, then the second three entries, etc, til the end. \n",
    "# Only return the 3-unit sections where the middle number is less than the other two numbers.\n",
    "\n",
    "# Example input: [1, 3, 2, 4, 5, 1, 7]\n",
    "# Example output: \n",
    "# \t[3, 2, 4]\n",
    "# \t[5, 1, 7]\n",
    "\n",
    "\n",
    "# The 3-unit sections can be returned as any data type, i.e. list, tuple, or string\n",
    "\n",
    "n = [1, 3, 2, 4, 5, 1, 7]\n",
    "\n",
    "def list_chunker(n: list):\n",
    "    for i in range(0, len(n)-2):\n",
    "        sliced = n[i:i+3]        \n",
    "        if sliced[1] < sliced[0] and sliced[1] < sliced[2]:\n",
    "            print(sliced)\n",
    "\n",
    "\n",
    "    \n",
    "list_chunker(n)\n",
    "\n",
    "\n"
   ]
  },
  {
   "cell_type": "code",
   "execution_count": 42,
   "metadata": {},
   "outputs": [
    {
     "name": "stdout",
     "output_type": "stream",
     "text": [
      "(1, 11)\n",
      "(-4, 16)\n",
      "(5, 7)\n",
      "(7, 5)\n",
      "(11, 1)\n"
     ]
    }
   ],
   "source": [
    "# Given a list \n",
    "# a = [1, 3, -4, 5, 7, 11, 16]\n",
    "\n",
    "# Write a function that prints any combination of two numbers in the list that their sum is equal to a specified number (ie: 12)\n",
    "\n",
    "# Expected arguments: a list and the expected sum\n",
    "\n",
    "# Expected return value: only print the tuples. For example:\n",
    "# (1, 11), (-4, 16), (5, 7)\n",
    "\n",
    "a_list = [1, 3, -4, 5, 7, 11, 16]\n",
    "\n",
    "def random_sum(a, n):\n",
    "    for i in range(0, len(a) -1):\n",
    "        for j in range(len(a)):\n",
    "            if a[i] + a[j] == n:\n",
    "                print((a[i],a[j]))\n",
    "\n",
    "\n",
    "\n",
    "random_sum(a_list, 12)"
   ]
  },
  {
   "cell_type": "code",
   "execution_count": 11,
   "metadata": {},
   "outputs": [
    {
     "name": "stdout",
     "output_type": "stream",
     "text": [
      "True\n"
     ]
    }
   ],
   "source": [
    "# #palindrome challenge\n",
    "# A string is a palindrome when it is the same when read backwards.\n",
    "\n",
    "# For example, the string \"bob\" is a palindrome. So is \"abba\". But the string \"abcd\" is not a palindrome, because \"abcd\" != \"dcba\".\n",
    "\n",
    "# Write a function named palindrome that takes a single string as its parameter. Your function should return True if the string is a palindrome, and False otherwise.\n",
    "\n",
    "n = 'rotator'\n",
    "b= 'deer'\n",
    "\n",
    "def palindrome(n):\n",
    "    if n[::-1] == n:\n",
    "        print(True)\n",
    "    else:\n",
    "        print(False)\n",
    "        \n",
    "    \n",
    "palindrome(n)"
   ]
  }
 ],
 "metadata": {
  "kernelspec": {
   "display_name": "venvchallenge",
   "language": "python",
   "name": "python3"
  },
  "language_info": {
   "codemirror_mode": {
    "name": "ipython",
    "version": 3
   },
   "file_extension": ".py",
   "mimetype": "text/x-python",
   "name": "python",
   "nbconvert_exporter": "python",
   "pygments_lexer": "ipython3",
   "version": "3.7.16"
  },
  "orig_nbformat": 4,
  "vscode": {
   "interpreter": {
    "hash": "7cdac49210ac49ba95bdd989ddad3adc46ccd77d2f7cbe0a3f84388449da51cb"
   }
  }
 },
 "nbformat": 4,
 "nbformat_minor": 2
}
