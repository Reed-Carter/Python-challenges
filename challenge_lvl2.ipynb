{
 "cells": [
  {
   "cell_type": "code",
   "execution_count": null,
   "metadata": {},
   "outputs": [],
   "source": [
    "# Online status\n",
    "# The aim of this challenge is, given a dictionary of people's online status, to count the number of people who are online.\n",
    "\n",
    "# For example, consider the following dictionary:\n",
    "\n",
    "statuses = {\n",
    "    \"Alice\": \"online\",\n",
    "    \"Bob\": \"offline\",\n",
    "    \"Eve\": \"online\",\n",
    "}\n",
    "# In this case, the number of people online is 2.\n",
    "\n",
    "# Write a function named online_count that takes one parameter. The parameter is a dictionary that maps from strings of names to the string \"online\" or \"offline\", as seen above.\n",
    "\n",
    "# Your function should return the number of people who are online.\n",
    "\n",
    "def online_count(statuses):\n",
    "    count=0\n",
    "    for k,v in statuses.items():\n",
    "        if v =='online':\n",
    "            count+=1\n",
    "    return count\n",
    "\n",
    "online_count(statuses)"
   ]
  },
  {
   "cell_type": "code",
   "execution_count": null,
   "metadata": {},
   "outputs": [],
   "source": [
    "# Middle letter\n",
    "# Write a function named mid that takes a string as its parameter. Your function should extract and return the middle letter. If there is no middle letter, your function should return the empty string.\n",
    "\n",
    "# For example, mid(\"abc\") should return \"b\" and mid(\"aaaa\") should return \"\".\n",
    "\n",
    "a='abc'\n",
    "b='aaaa'\n",
    "\n",
    "def mid(c):\n",
    "    if len(c) % 2 == 1:\n",
    "        middle=c[int(len(c)/2)]\n",
    "        return middle\n",
    "    else:\n",
    "        return (\"\")\n",
    "mid(a)"
   ]
  },
  {
   "cell_type": "code",
   "execution_count": null,
   "metadata": {},
   "outputs": [],
   "source": [
    "# Capital indexes\n",
    "# Write a function named capital_indexes. The function takes a single parameter, which is a string. Your function should return a list of all the indexes in the string that have capital letters.\n",
    "\n",
    "# For example, calling capital_indexes(\"HeLlO\") should return the list [0, 2, 4].\n",
    "\n",
    "a=\"HeLlO\"\n",
    "def capital_indexes(astring):\n",
    "    capitals=[]\n",
    "    for i in range(0, len(astring)):\n",
    "        if astring[i].isupper():\n",
    "            capitals.append(i)\n",
    "    return capitals\n",
    "\n",
    "capital_indexes(a)"
   ]
  },
  {
   "cell_type": "code",
   "execution_count": 6,
   "metadata": {},
   "outputs": [
    {
     "data": {
      "text/plain": [
       "84"
      ]
     },
     "execution_count": 6,
     "metadata": {},
     "output_type": "execute_result"
    }
   ],
   "source": [
    "# Randomness\n",
    "# Define a function, random_number, that takes no parameters. The function must generate a random integer between 1 and 100, both inclusive, and return it.\n",
    "\n",
    "# Calling the function multiple times should (usually) return different numbers.\n",
    "\n",
    "# For example, calling random_number() some times might first return 42, then 63, then 1.\n",
    "\n",
    "from random import randint\n",
    "\n",
    "\n",
    "def random_number():\n",
    "    return randint(0,100)\n",
    "\n",
    "random_number()"
   ]
  },
  {
   "cell_type": "code",
   "execution_count": 14,
   "metadata": {},
   "outputs": [
    {
     "name": "stdout",
     "output_type": "stream",
     "text": [
      "True\n",
      "False\n",
      "True\n",
      "False\n"
     ]
    }
   ],
   "source": [
    "# Type check\n",
    "# Write a function named only_ints that takes two parameters. Your function should return True if both parameters are integers, and False otherwise.\n",
    "\n",
    "# For example, calling only_ints(1, 2) should return True, while calling only_ints(\"a\", 1) should return False.\n",
    "\n",
    "def only_ints(a, b):\n",
    "    if type(a)==int and type(b) == int:\n",
    "        return True\n",
    "    else:\n",
    "        return False\n",
    "\n",
    "def only_ints_short(a, b):\n",
    "    return type(a) == int and type(b) == int\n",
    "\n",
    "print(only_ints(1, 2))\n",
    "print(only_ints('a', 1))\n",
    "\n",
    "print(only_ints_short(1, 2))\n",
    "print(only_ints_short('a', 1))\n"
   ]
  },
  {
   "cell_type": "code",
   "execution_count": 48,
   "metadata": {},
   "outputs": [
    {
     "name": "stdout",
     "output_type": "stream",
     "text": [
      "True\n",
      "False\n"
     ]
    }
   ],
   "source": [
    "# Double letters\n",
    "# The goal of this challenge is to analyze a string to check if it contains two of the same letter in a row. For example, the string \"hello\" has l twice in a row, while the string \"nono\" does not have two identical letters in a row.\n",
    "\n",
    "# Define a function named double_letters that takes a single parameter. The parameter is a string. Your function must return True if there are two identical letters in a row in the string, and False otherwise.\n",
    "\n",
    "def double_letters(astring):\n",
    "    for i in range (0,len(astring)-1):\n",
    "        if  astring[i+1]== astring[i]:\n",
    "            return True\n",
    "    return False\n",
    "    \n",
    "a = 'hello'\n",
    "b = 'nono'\n",
    "\n",
    "print(double_letters(a))\n",
    "print(double_letters(b))\n"
   ]
  },
  {
   "cell_type": "code",
   "execution_count": 70,
   "metadata": {},
   "outputs": [
    {
     "name": "stdout",
     "output_type": "stream",
     "text": [
      "t.e.s.t.\n",
      "test\n"
     ]
    }
   ],
   "source": [
    "# Adding and removing dots\n",
    "# Write a function named add_dots that takes a string and adds \".\" in between each letter. For example, calling add_dots(\"test\") should return the string \"t.e.s.t\".\n",
    "\n",
    "# Then, below the add_dots function, write another function named remove_dots that removes all dots from a string. For example, calling remove_dots(\"t.e.s.t\") should return \"test\".\n",
    "\n",
    "# If both functions are correct, calling remove_dots(add_dots(string)) should return back the original string for any string.\n",
    "\n",
    "# (You may assume that the input to add_dots does not itself contain any dots.)\n",
    "\n",
    "a='test'\n",
    "b='t.e.s.t'\n",
    "\n",
    "def add_dots(a):\n",
    "    result = []\n",
    "    with_dots = \"\"\n",
    "\n",
    "    for i in a:\n",
    "        result.append(i+'.')\n",
    "    return with_dots.join(result)\n",
    "\n",
    "def remove_dots(b):\n",
    "    no_dots = \"\"\n",
    "    for i in a:\n",
    "        if i != \".\":\n",
    "            no_dots+=i\n",
    "    return no_dots\n",
    "\n",
    "print(add_dots(a))\n",
    "print(remove_dots(b))"
   ]
  }
 ],
 "metadata": {
  "kernelspec": {
   "display_name": "venvchal",
   "language": "python",
   "name": "python3"
  },
  "language_info": {
   "codemirror_mode": {
    "name": "ipython",
    "version": 3
   },
   "file_extension": ".py",
   "mimetype": "text/x-python",
   "name": "python",
   "nbconvert_exporter": "python",
   "pygments_lexer": "ipython3",
   "version": "3.10.6"
  },
  "orig_nbformat": 4,
  "vscode": {
   "interpreter": {
    "hash": "4e5b481950041ce85b52d7993c3717e8d7c23f9aca3c4d82aa2091c0744e3f7a"
   }
  }
 },
 "nbformat": 4,
 "nbformat_minor": 2
}
